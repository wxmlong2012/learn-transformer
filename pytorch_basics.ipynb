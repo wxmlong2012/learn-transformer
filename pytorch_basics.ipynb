{
  "nbformat": 4,
  "nbformat_minor": 0,
  "metadata": {
    "colab": {
      "provenance": [],
      "authorship_tag": "ABX9TyNyoAHqD7G1ACkQwKc2HvLY",
      "include_colab_link": true
    },
    "kernelspec": {
      "name": "python3",
      "display_name": "Python 3"
    },
    "language_info": {
      "name": "python"
    }
  },
  "cells": [
    {
      "cell_type": "markdown",
      "metadata": {
        "id": "view-in-github",
        "colab_type": "text"
      },
      "source": [
        "<a href=\"https://colab.research.google.com/github/wxmlong2012/learn-transformer/blob/main/pytorch_basics.ipynb\" target=\"_parent\"><img src=\"https://colab.research.google.com/assets/colab-badge.svg\" alt=\"Open In Colab\"/></a>"
      ]
    },
    {
      "cell_type": "code",
      "execution_count": 2,
      "metadata": {
        "id": "gUvxD9lj-9H-"
      },
      "outputs": [],
      "source": [
        "import torch\n",
        "import torch.nn as nn"
      ]
    },
    {
      "cell_type": "code",
      "source": [
        "x = torch.randn(3,5)"
      ],
      "metadata": {
        "id": "E48gjQ5o-_dP"
      },
      "execution_count": null,
      "outputs": []
    },
    {
      "cell_type": "code",
      "source": [
        "print(x)"
      ],
      "metadata": {
        "colab": {
          "base_uri": "https://localhost:8080/"
        },
        "id": "AunZ2A4p_DqH",
        "outputId": "cbcd8a20-2ad4-41d1-9915-fdb7bc11a05a"
      },
      "execution_count": null,
      "outputs": [
        {
          "output_type": "stream",
          "name": "stdout",
          "text": [
            "tensor([[-1.2140, -2.2588,  0.4213,  0.1103, -0.4316],\n",
            "        [ 0.7114,  1.5222, -1.4440, -0.3811,  1.2212],\n",
            "        [ 0.3103, -1.0308,  0.5702,  0.5897,  0.4839]])\n"
          ]
        }
      ]
    },
    {
      "cell_type": "code",
      "source": [
        "torch.__version__"
      ],
      "metadata": {
        "colab": {
          "base_uri": "https://localhost:8080/",
          "height": 35
        },
        "id": "vdkT9Adx_Ksv",
        "outputId": "dc304dd1-0e08-4330-8b48-58ff591463b2"
      },
      "execution_count": null,
      "outputs": [
        {
          "output_type": "execute_result",
          "data": {
            "text/plain": [
              "'2.1.0+cu118'"
            ],
            "application/vnd.google.colaboratory.intrinsic+json": {
              "type": "string"
            }
          },
          "metadata": {},
          "execution_count": 5
        }
      ]
    },
    {
      "cell_type": "code",
      "source": [
        "# Example of target with class indices\n",
        "loss = nn.CrossEntropyLoss()\n",
        "input = torch.randn(3, 5, requires_grad=True)\n",
        "target = torch.empty(3, dtype=torch.long).random_(5)\n",
        "output = loss(input, target)\n",
        "output.backward()\n",
        "print(input)\n",
        "print(target)\n",
        "print(output)\n",
        "\n"
      ],
      "metadata": {
        "id": "yKmPzTnu_Y8w",
        "outputId": "07d5a684-5473-4533-b98b-35d492fbb639",
        "colab": {
          "base_uri": "https://localhost:8080/"
        }
      },
      "execution_count": 5,
      "outputs": [
        {
          "output_type": "stream",
          "name": "stdout",
          "text": [
            "tensor([[-0.1922,  1.0388, -1.5364, -0.0790, -0.4623],\n",
            "        [-0.7728,  0.9528, -0.7648, -0.7054, -2.3573],\n",
            "        [-1.2690, -0.3143,  0.3012, -1.5593,  0.2511]], requires_grad=True)\n",
            "tensor([3, 3, 0])\n",
            "tensor(2.1690, grad_fn=<NllLossBackward0>)\n"
          ]
        }
      ]
    },
    {
      "cell_type": "code",
      "source": [
        "\n",
        "# Example of target with class probabilities\n",
        "input = torch.randn(3, 5, requires_grad=True)\n",
        "target = torch.randn(3, 5).softmax(dim=1)\n",
        "output = loss(input, target)\n",
        "output.backward()"
      ],
      "metadata": {
        "id": "gdzThJb_kyq4"
      },
      "execution_count": null,
      "outputs": []
    }
  ]
}